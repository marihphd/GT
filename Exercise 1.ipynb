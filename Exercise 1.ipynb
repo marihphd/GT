{
 "cells": [
  {
   "cell_type": "code",
   "execution_count": 1,
   "metadata": {
    "collapsed": true
   },
   "outputs": [],
   "source": [
    "import pyomo.environ as pyo\n",
    "from pyomo.opt import SolverFactory"
   ]
  },
  {
   "cell_type": "code",
   "execution_count": 2,
   "outputs": [],
   "source": [
    "model= pyo.ConcreteModel()"
   ],
   "metadata": {
    "collapsed": false,
    "pycharm": {
     "name": "#%%\n"
    }
   }
  },
  {
   "cell_type": "code",
   "execution_count": 3,
   "outputs": [],
   "source": [
    "model.D1= pyo.Var(within= pyo.NonNegativeReals, bounds=(0,100))\n",
    "model.D2= pyo.Var(within= pyo.NonNegativeReals, bounds=(0,50))\n",
    "model.G1= pyo.Var(within= pyo.NonNegativeReals, bounds=(0,100))\n",
    "model.G2= pyo.Var(within= pyo.NonNegativeReals, bounds=(0,80))\n"
   ],
   "metadata": {
    "collapsed": false,
    "pycharm": {
     "name": "#%%\n"
    }
   }
  },
  {
   "cell_type": "code",
   "execution_count": 4,
   "outputs": [],
   "source": [
    "model.N1= pyo.Var(within= pyo.NonNegativeReals, initialize=0)\n",
    "model.N2=pyo.Var(within= pyo.NonNegativeReals)\n",
    "model.N3=pyo.Var(within= pyo.NonNegativeReals)"
   ],
   "metadata": {
    "collapsed": false,
    "pycharm": {
     "name": "#%%\n"
    }
   }
  },
  {
   "cell_type": "code",
   "execution_count": 5,
   "outputs": [],
   "source": [
    "def Objective(model):\n",
    "    SW=40*model.D1+35*model.D2-12*model.G1-20*model.G2\n",
    "    return SW\n",
    "\n",
    "model.Obj= pyo.Objective(rule= Objective, sense= pyo.maximize)\n"
   ],
   "metadata": {
    "collapsed": false,
    "pycharm": {
     "name": "#%%\n"
    }
   }
  },
  {
   "cell_type": "markdown",
   "source": [],
   "metadata": {
    "collapsed": false,
    "pycharm": {
     "name": "#%% md\n"
    }
   }
  },
  {
   "cell_type": "code",
   "execution_count": 6,
   "outputs": [],
   "source": [
    "Con1= model.G1-500*(model.N1-model.N2)-500*(model.N1-model.N3)\n",
    "Con2= model.G2-model.D1-500*(model.N2-model.N1)-500*(model.N2-model.N3)\n",
    "Con3= -model.D2-500*(model.N3-model.N1)-500*(model.N3-model.N2)\n",
    "Con4=500*(model.N1-model.N2)\n",
    "Con5=500*(model.N1-model.N3)\n",
    "Con6=500*(model.N2-model.N3)"
   ],
   "metadata": {
    "collapsed": false,
    "pycharm": {
     "name": "#%%\n"
    }
   }
  },
  {
   "cell_type": "code",
   "execution_count": 7,
   "outputs": [],
   "source": [
    "model.Con1= pyo.Constraint(rule=Con1==0)\n",
    "model.Con2= pyo.Constraint(rule=Con2==0)\n",
    "model.Con3= pyo.Constraint(rule=Con3==0)\n",
    "model.Con4_1= pyo.Constraint(rule=Con4<=100)\n",
    "model.Con4_2= pyo.Constraint(rule=Con4>=-100)\n",
    "model.Con5_1= pyo.Constraint(rule=Con5<=40)\n",
    "model.Con5_2= pyo.Constraint(rule=Con5>=-40)\n",
    "model.Con6_1= pyo.Constraint(rule=Con6<=100)\n",
    "model.Con6_2= pyo.Constraint(rule=Con6>=-100)"
   ],
   "metadata": {
    "collapsed": false,
    "pycharm": {
     "name": "#%%\n"
    }
   }
  },
  {
   "cell_type": "code",
   "execution_count": 8,
   "outputs": [],
   "source": [
    "opt = SolverFactory(\"gurobi\")\n",
    "model.dual= pyo.Suffix(direction=pyo.Suffix.IMPORT)\n",
    "results = opt.solve(model, load_solutions = True)\n"
   ],
   "metadata": {
    "collapsed": false,
    "pycharm": {
     "name": "#%%\n"
    }
   }
  },
  {
   "cell_type": "code",
   "execution_count": 9,
   "outputs": [
    {
     "name": "stdout",
     "output_type": "stream",
     "text": [
      "Model unknown\n",
      "\n",
      "  Variables:\n",
      "    D1 : Size=1, Index=None\n",
      "        Key  : Lower : Value : Upper : Fixed : Stale : Domain\n",
      "        None :     0 : 100.0 :   100 : False : False : NonNegativeReals\n",
      "    D2 : Size=1, Index=None\n",
      "        Key  : Lower : Value : Upper : Fixed : Stale : Domain\n",
      "        None :     0 :  50.0 :    50 : False : False : NonNegativeReals\n",
      "    G1 : Size=1, Index=None\n",
      "        Key  : Lower : Value : Upper : Fixed : Stale : Domain\n",
      "        None :     0 :  70.0 :   100 : False : False : NonNegativeReals\n",
      "    G2 : Size=1, Index=None\n",
      "        Key  : Lower : Value : Upper : Fixed : Stale : Domain\n",
      "        None :     0 :  80.0 :    80 : False : False : NonNegativeReals\n",
      "    N1 : Size=1, Index=None\n",
      "        Key  : Lower : Value : Upper : Fixed : Stale : Domain\n",
      "        None :     0 :  0.08 :  None : False : False : NonNegativeReals\n",
      "    N2 : Size=1, Index=None\n",
      "        Key  : Lower : Value : Upper : Fixed : Stale : Domain\n",
      "        None :     0 :  0.02 :  None : False : False : NonNegativeReals\n",
      "    N3 : Size=1, Index=None\n",
      "        Key  : Lower : Value : Upper : Fixed : Stale : Domain\n",
      "        None :     0 :   0.0 :  None : False : False : NonNegativeReals\n",
      "\n",
      "  Objectives:\n",
      "    Obj : Size=1, Index=None, Active=True\n",
      "        Key  : Active : Value\n",
      "        None :   True : 3310.0\n",
      "\n",
      "  Constraints:\n",
      "    Con1 : Size=1\n",
      "        Key  : Lower : Body : Upper\n",
      "        None :   0.0 :  0.0 :   0.0\n",
      "    Con2 : Size=1\n",
      "        Key  : Lower : Body : Upper\n",
      "        None :   0.0 :  0.0 :   0.0\n",
      "    Con3 : Size=1\n",
      "        Key  : Lower : Body : Upper\n",
      "        None :   0.0 :  0.0 :   0.0\n",
      "    Con4_1 : Size=1\n",
      "        Key  : Lower : Body : Upper\n",
      "        None :  None : 30.0 : 100.0\n",
      "    Con4_2 : Size=1\n",
      "        Key  : Lower  : Body : Upper\n",
      "        None : -100.0 : 30.0 :  None\n",
      "    Con5_1 : Size=1\n",
      "        Key  : Lower : Body : Upper\n",
      "        None :  None : 40.0 :  40.0\n",
      "    Con5_2 : Size=1\n",
      "        Key  : Lower : Body : Upper\n",
      "        None : -40.0 : 40.0 :  None\n",
      "    Con6_1 : Size=1\n",
      "        Key  : Lower : Body : Upper\n",
      "        None :  None : 10.0 : 100.0\n",
      "    Con6_2 : Size=1\n",
      "        Key  : Lower  : Body : Upper\n",
      "        None : -100.0 : 10.0 :  None\n",
      "dual : Direction=Suffix.IMPORT, Datatype=Suffix.FLOAT\n",
      "    Key    : Value\n",
      "      Con1 : -12.0\n",
      "      Con2 : -20.0\n",
      "      Con3 : -28.0\n",
      "    Con4_1 :   0.0\n",
      "    Con4_2 :   0.0\n",
      "    Con5_1 :  24.0\n",
      "    Con5_2 :   0.0\n",
      "    Con6_1 :   0.0\n",
      "    Con6_2 :   0.0\n"
     ]
    }
   ],
   "source": [
    "  #Display data\n",
    "model.display()\n",
    "    #Display dual data\n",
    "model.dual.display()"
   ],
   "metadata": {
    "collapsed": false,
    "pycharm": {
     "name": "#%%\n"
    }
   }
  }
 ],
 "metadata": {
  "kernelspec": {
   "display_name": "Python 3",
   "language": "python",
   "name": "python3"
  },
  "language_info": {
   "codemirror_mode": {
    "name": "ipython",
    "version": 2
   },
   "file_extension": ".py",
   "mimetype": "text/x-python",
   "name": "python",
   "nbconvert_exporter": "python",
   "pygments_lexer": "ipython2",
   "version": "2.7.6"
  }
 },
 "nbformat": 4,
 "nbformat_minor": 0
}